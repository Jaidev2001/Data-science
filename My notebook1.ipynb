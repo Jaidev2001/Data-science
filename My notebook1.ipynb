{
    "cells": [
        {
            "metadata": {},
            "cell_type": "markdown",
            "source": "# My Jupyter Notebook on IBM Data Science Experience"
        },
        {
            "metadata": {},
            "cell_type": "markdown",
            "source": "**Jaidev Behera**  \nI wanted to be a Data Scientist."
        },
        {
            "metadata": {},
            "cell_type": "markdown",
            "source": "*I am interested in Data Science because i love this field.This field consist of many wonderful parts like Data analyzing, Data cleaning, machine learning and many more.It feels great to get those data and analyze those data getting some useful information from it.Playing with those data attracts me towards Data Science.*"
        },
        {
            "metadata": {},
            "cell_type": "markdown",
            "source": "### In the next Cell , in Cell 5 \"HELLO WORLD\" will  be assign to a variable called x and the x will be printed in the next line."
        },
        {
            "metadata": {},
            "cell_type": "code",
            "source": "x=\"HELLO WORLD\"\nprint(x)",
            "execution_count": 6,
            "outputs": [
                {
                    "output_type": "stream",
                    "text": "HELLO WORLD\n",
                    "name": "stdout"
                }
            ]
        },
        {
            "metadata": {},
            "cell_type": "markdown",
            "source": "Here's a logo of **watson studio**  \n![alt text](data:image/jpeg;base64,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)",
            "attachments": {}
        },
        {
            "metadata": {},
            "cell_type": "markdown",
            "source": "| ID  | NAME   | GENDER | AGE |  \n| ---- |:------:|:------:|:---:|  \n| 2323 | Jack   | male   | 21  |  \n| 2546 | Anuj   | male   | 23  |  \n| 1986 | Sakshi | female | 20  |  \n| 1948 | Jaidev | male   | 19  |  "
        },
        {
            "metadata": {},
            "cell_type": "markdown",
            "source": ">\u201cTruth can only be found in one place: the code.\u201d  \n\u2015 Robert C. Martin"
        },
        {
            "metadata": {},
            "cell_type": "markdown",
            "source": "[IBM Studio](https://www.ibm.com/cloud/watson-studio)"
        },
        {
            "metadata": {},
            "cell_type": "code",
            "source": "",
            "execution_count": null,
            "outputs": []
        }
    ],
    "metadata": {
        "kernelspec": {
            "name": "python3",
            "display_name": "Python 3.6",
            "language": "python"
        },
        "language_info": {
            "name": "python",
            "version": "3.6.9",
            "mimetype": "text/x-python",
            "codemirror_mode": {
                "name": "ipython",
                "version": 3
            },
            "pygments_lexer": "ipython3",
            "nbconvert_exporter": "python",
            "file_extension": ".py"
        }
    },
    "nbformat": 4,
    "nbformat_minor": 1
}